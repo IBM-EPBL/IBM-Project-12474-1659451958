{
  "nbformat": 4,
  "nbformat_minor": 0,
  "metadata": {
    "colab": {
      "provenance": []
    },
    "kernelspec": {
      "name": "python3",
      "display_name": "Python 3"
    },
    "language_info": {
      "name": "python"
    }
  },
  "cells": [
    {
      "cell_type": "code",
      "source": [
        "from google.colab import drive\n",
        "drive.mount('/content/drive')"
      ],
      "metadata": {
        "id": "ZMJrtak3vE1C"
      },
      "execution_count": null,
      "outputs": []
    },
    {
      "cell_type": "code",
      "source": [
        "from keras.preprocessing.image import ImageDataGenerator\n",
        "train_datagen = ImageDataGenerator(rescale = 1./255,\n",
        "                                   shear_range = 0.2,\n",
        "                                   zoom_range = 0.2,\n",
        "                                   horizontal_flip = true\n",
        "\n",
        "test_datagen =ImageDataGenerator(rescale = 1)\n",
        "\n"
      ],
      "metadata": {
        "id": "y4h2LxL8wU7A"
      },
      "execution_count": null,
      "outputs": []
    },
    {
      "cell_type": "code",
      "source": [
        "x_train = train_datagen.flow_from_directory('Veg-dataset/train_set',\n",
        "                                            target_size = (128,128),\n",
        "                                            batch_size = 16,\n",
        "                                            class_mode = 'categorical')\n"
      ],
      "metadata": {
        "id": "IrNu-dEGrpjy"
      },
      "execution_count": null,
      "outputs": []
    },
    {
      "cell_type": "code",
      "source": [
        "x_test = test_datagen.flow_from_directory('veg-dataset/test_set',\n",
        "                                          target_size = (128,128)\n",
        "                                          batch_size = 16,\n",
        "                                          class_mode = 'categorical')"
      ],
      "metadata": {
        "id": "AmL4M0hatuEt"
      },
      "execution_count": null,
      "outputs": []
    },
    {
      "cell_type": "code",
      "source": [
        "from keras.models import Sequential\n",
        "from keras.layers import Dense\n",
        "from keras.layers import Convloution2D\n",
        "from keras.layers import MaxPooling2D\n",
        "from keras.layers import Flatten\n"
      ],
      "metadata": {
        "id": "kBmCb2FVzCU1"
      },
      "execution_count": null,
      "outputs": []
    },
    {
      "cell_type": "code",
      "source": [
        "mode1=Sequential()"
      ],
      "metadata": {
        "id": "L16dyhQhz5IQ"
      },
      "execution_count": null,
      "outputs": []
    },
    {
      "cell_type": "code",
      "source": [
        "mode1.add(Convolution2D(32,(3,3),input_shape = (128,128,3),activation = 'relu'))"
      ],
      "metadata": {
        "id": "L_g2LcKt0Jri"
      },
      "execution_count": null,
      "outputs": []
    },
    {
      "cell_type": "code",
      "source": [
        "mode1.add(MaxPooling2D(pool_size = (2,2)))"
      ],
      "metadata": {
        "id": "hOu42iaT1wdU"
      },
      "execution_count": null,
      "outputs": []
    },
    {
      "cell_type": "code",
      "source": [
        "mode1.add(Flatten())"
      ],
      "metadata": {
        "id": "bMVEWCIv2FTx"
      },
      "execution_count": null,
      "outputs": []
    },
    {
      "cell_type": "code",
      "source": [
        "mode1.add(Dense(units = 300,init = 'uniform',activation = 'relu'))\n",
        "mode1.add(Dense(units = 150,init = 'uniform',activation = 'relu'))\n",
        "mode1.add(Dense(units = 75,init = 'uniform',activation = 'relu'))\n",
        "mode1.add(Dense(output_dim = 9,activation = 'softmax',init = 'uniform'))"
      ],
      "metadata": {
        "id": "OwzO07MM2abS"
      },
      "execution_count": null,
      "outputs": []
    },
    {
      "cell_type": "code",
      "source": [
        "mode1.compile(loss = 'categorical_crossentropy',optimizer = \"adam\",metrics  =[\"accuracy\"])"
      ],
      "metadata": {
        "id": "x_w7tlpO3khg"
      },
      "execution_count": null,
      "outputs": []
    },
    {
      "cell_type": "code",
      "source": [
        "mode1.fit_generator(x_train,steps_per_epoch = 89,\n",
        "                    epochs = 20,\n",
        "                    validation_data = x_test\n",
        "                    validation_steps = 27)"
      ],
      "metadata": {
        "id": "-CnundMt4CmZ"
      },
      "execution_count": null,
      "outputs": []
    },
    {
      "cell_type": "code",
      "source": [
        "mode1.save('vegetable.h5')"
      ],
      "metadata": {
        "id": "_anBrepF4evs"
      },
      "execution_count": null,
      "outputs": []
    }
  ]
}